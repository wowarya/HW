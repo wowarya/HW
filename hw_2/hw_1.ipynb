{
  "nbformat": 4,
  "nbformat_minor": 0,
  "metadata": {
    "colab": {
      "provenance": []
    },
    "kernelspec": {
      "name": "python3",
      "display_name": "Python 3"
    },
    "language_info": {
      "name": "python"
    }
  },
  "cells": [
    {
      "cell_type": "code",
      "execution_count": null,
      "metadata": {
        "colab": {
          "base_uri": "https://localhost:8080/",
          "height": 488
        },
        "id": "EZLayKniooD6",
        "outputId": "8e6318b4-b233-4d39-84ed-c1eaee5ff337"
      },
      "outputs": [
        {
          "output_type": "stream",
          "name": "stdout",
          "text": [
            "Snickers\n",
            "Шоколадный батончик, добавка: нуга, арахис\n",
            "Шоколодный батончик, 70.0 рублей\n",
            "\n",
            "Ritter Sport\n",
            "Обычный шоколодный батончик\n",
            "Шоколодный батончик, 255.5 рублей\n",
            "\n",
            "Picnic\n"
          ]
        },
        {
          "output_type": "error",
          "ename": "ValueError",
          "evalue": "Неверно указана цена",
          "traceback": [
            "\u001b[0;31m---------------------------------------------------------------------------\u001b[0m",
            "\u001b[0;31mValueError\u001b[0m                                Traceback (most recent call last)",
            "\u001b[0;32m<ipython-input-35-b3e5a5d6f939>\u001b[0m in \u001b[0;36m<cell line: 27>\u001b[0;34m()\u001b[0m\n\u001b[1;32m     25\u001b[0m \u001b[0;34m\u001b[0m\u001b[0m\n\u001b[1;32m     26\u001b[0m \u001b[0mprint\u001b[0m\u001b[0;34m(\u001b[0m\u001b[0;34m'\\nPicnic'\u001b[0m\u001b[0;34m)\u001b[0m\u001b[0;34m\u001b[0m\u001b[0;34m\u001b[0m\u001b[0m\n\u001b[0;32m---> 27\u001b[0;31m \u001b[0mres\u001b[0m \u001b[0;34m=\u001b[0m \u001b[0mChocolate\u001b[0m\u001b[0;34m(\u001b[0m\u001b[0;36m0\u001b[0m\u001b[0;34m,\u001b[0m \u001b[0;34m'грецкий орех'\u001b[0m\u001b[0;34m)\u001b[0m\u001b[0;34m\u001b[0m\u001b[0;34m\u001b[0m\u001b[0m\n\u001b[0m\u001b[1;32m     28\u001b[0m \u001b[0mres\u001b[0m\u001b[0;34m.\u001b[0m \u001b[0mshow_my_chocolate\u001b[0m\u001b[0;34m(\u001b[0m\u001b[0;34m)\u001b[0m\u001b[0;34m\u001b[0m\u001b[0;34m\u001b[0m\u001b[0m\n\u001b[1;32m     29\u001b[0m \u001b[0mprint\u001b[0m\u001b[0;34m(\u001b[0m\u001b[0mres\u001b[0m\u001b[0;34m)\u001b[0m\u001b[0;34m\u001b[0m\u001b[0;34m\u001b[0m\u001b[0m\n",
            "\u001b[0;32m<ipython-input-35-b3e5a5d6f939>\u001b[0m in \u001b[0;36m__init__\u001b[0;34m(self, price, addition)\u001b[0m\n\u001b[1;32m      5\u001b[0m     \u001b[0mself\u001b[0m\u001b[0;34m.\u001b[0m\u001b[0mprice\u001b[0m \u001b[0;34m=\u001b[0m \u001b[0mfloat\u001b[0m\u001b[0;34m(\u001b[0m\u001b[0mself\u001b[0m\u001b[0;34m.\u001b[0m\u001b[0mprice\u001b[0m\u001b[0;34m)\u001b[0m\u001b[0;34m\u001b[0m\u001b[0;34m\u001b[0m\u001b[0m\n\u001b[1;32m      6\u001b[0m     \u001b[0;32mif\u001b[0m \u001b[0mself\u001b[0m\u001b[0;34m.\u001b[0m\u001b[0mprice\u001b[0m \u001b[0;34m<=\u001b[0m \u001b[0;36m0\u001b[0m\u001b[0;34m:\u001b[0m\u001b[0;34m\u001b[0m\u001b[0;34m\u001b[0m\u001b[0m\n\u001b[0;32m----> 7\u001b[0;31m       \u001b[0;32mraise\u001b[0m \u001b[0mValueError\u001b[0m\u001b[0;34m(\u001b[0m\u001b[0;34m'Неверно указана цена'\u001b[0m\u001b[0;34m)\u001b[0m\u001b[0;34m\u001b[0m\u001b[0;34m\u001b[0m\u001b[0m\n\u001b[0m\u001b[1;32m      8\u001b[0m   \u001b[0;32mdef\u001b[0m \u001b[0mshow_my_chocolate\u001b[0m\u001b[0;34m(\u001b[0m\u001b[0mself\u001b[0m\u001b[0;34m)\u001b[0m\u001b[0;34m:\u001b[0m\u001b[0;34m\u001b[0m\u001b[0;34m\u001b[0m\u001b[0m\n\u001b[1;32m      9\u001b[0m     \u001b[0;32mif\u001b[0m \u001b[0mself\u001b[0m\u001b[0;34m.\u001b[0m\u001b[0maddition\u001b[0m\u001b[0;34m:\u001b[0m\u001b[0;34m\u001b[0m\u001b[0;34m\u001b[0m\u001b[0m\n",
            "\u001b[0;31mValueError\u001b[0m: Неверно указана цена"
          ]
        }
      ],
      "source": [
        "class Chocolate:\n",
        "  def __init__(self, price: float, addition = None):\n",
        "    self.price = price\n",
        "    self.addition = addition\n",
        "    self.price = float(self.price)\n",
        "    if self.price <= 0:\n",
        "      raise ValueError('Неверно указана цена')\n",
        "  def show_my_chocolate(self):\n",
        "    if self.addition:\n",
        "      print (f\"Шоколадный батончик, добавка: {self.addition}\")\n",
        "    else:\n",
        "      print(\"Обычный шоколодный батончик\")\n",
        "  def __str__(self):\n",
        "    return f\"Шоколодный батончик, {self.price} рублей\"\n",
        "\n",
        "print('Snickers')\n",
        "res = Chocolate(70, 'нуга, арахис')\n",
        "res. show_my_chocolate()\n",
        "print(res)\n",
        "\n",
        "print('\\nRitter Sport')\n",
        "res = Chocolate(255.5, '')\n",
        "res. show_my_chocolate()\n",
        "print(res)\n",
        "\n",
        "print('\\nPicnic')\n",
        "res = Chocolate(0, 'грецкий орех')\n",
        "res. show_my_chocolate()\n",
        "print(res)"
      ]
    }
  ]
}